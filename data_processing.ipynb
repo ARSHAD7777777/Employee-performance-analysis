{
 "cells": [
  {
   "cell_type": "markdown",
   "metadata": {},
   "source": [
    "### Encoding categorical variables"
   ]
  },
  {
   "cell_type": "code",
   "execution_count": 16,
   "metadata": {},
   "outputs": [],
   "source": [
    "from sklearn.preprocessing import OrdinalEncoder\n",
    "encoder=OrdinalEncoder()"
   ]
  },
  {
   "cell_type": "code",
   "execution_count": 17,
   "metadata": {},
   "outputs": [],
   "source": [
    "for i in data.columns:\n",
    "    if data[i].dtype=='object':\n",
    "        data[i]=encoder.fit_transform(data[[i]])"
   ]
  },
  {
   "cell_type": "markdown",
   "metadata": {},
   "source": [
    "### Splitting target and predictor variables"
   ]
  },
  {
   "cell_type": "code",
   "execution_count": 19,
   "metadata": {},
   "outputs": [],
   "source": [
    "x=data.iloc[:,:26]\n",
    "y=data.iloc[:,26]"
   ]
  },
  {
   "cell_type": "markdown",
   "metadata": {},
   "source": [
    "### Scaling the continuous variables"
   ]
  },
  {
   "cell_type": "code",
   "execution_count": 29,
   "metadata": {},
   "outputs": [
    {
     "name": "stdout",
     "output_type": "stream",
     "text": [
      "the unique values of Age are\n",
      "[32 47 40 41 60 27 50 28 36 38 44 30 29 42 34 39 56 53 35 52 33 25 45 23\n",
      " 26 54 37 24 49 55 43 51 22 31 58 20 21 48 19 18 59 46 57]\n",
      "int64\n",
      "the unique values of Gender are\n",
      "[1. 0.]\n",
      "float64\n",
      "the unique values of EducationBackground are\n",
      "[2. 1. 0. 3. 4. 5.]\n",
      "float64\n",
      "the unique values of MaritalStatus are\n",
      "[2. 1. 0.]\n",
      "float64\n",
      "the unique values of EmpDepartment are\n",
      "[5. 3. 1. 0. 4. 2.]\n",
      "float64\n",
      "the unique values of EmpJobRole are\n",
      "[13.  8.  3. 14.  6. 15.  1. 16.  7. 10. 12.  5. 11.  9.  4. 17.  0. 18.\n",
      "  2.]\n",
      "float64\n",
      "the unique values of BusinessTravelFrequency are\n",
      "[2. 1. 0.]\n",
      "float64\n",
      "the unique values of DistanceFromHome are\n",
      "[10 14  5 16  8  1 24  3 27 19  9  2  7  6 26 11 23 13 29 12  4 25 21 18\n",
      " 20 17 22 28 15]\n",
      "int64\n",
      "the unique values of EmpEducationLevel are\n",
      "[3 4 2 5 1]\n",
      "int64\n",
      "the unique values of EmpEnvironmentSatisfaction are\n",
      "[4 2 1 3]\n",
      "int64\n",
      "the unique values of EmpHourlyRate are\n",
      "[ 55  42  48  73  84  32  54  67  63  81  49  99  57  96  44  86  83  61\n",
      "  80  31  46  79  77  60  76  41  71  66  38  72  95  82  75  93  64  36\n",
      "  69  33  35  40  43  51  52  98  45  37  94  59  88  50  65  53  56  78\n",
      "  74  91  62  87  68  34  70 100  92  39  97  47  90  85  30  58  89]\n",
      "int64\n",
      "the unique values of EmpJobInvolvement are\n",
      "[3 2 1 4]\n",
      "int64\n",
      "the unique values of EmpJobLevel are\n",
      "[2 3 5 1 4]\n",
      "int64\n",
      "the unique values of EmpJobSatisfaction are\n",
      "[4 1 2 3]\n",
      "int64\n",
      "the unique values of NumCompaniesWorked are\n",
      "[1 2 5 3 8 7 9 4 6 0]\n",
      "int64\n",
      "the unique values of OverTime are\n",
      "[0. 1.]\n",
      "float64\n",
      "the unique values of EmpLastSalaryHikePercent are\n",
      "[12 21 15 14 13 23 11 20 19 17 18 22 16 24 25]\n",
      "int64\n",
      "the unique values of EmpRelationshipSatisfaction are\n",
      "[4 3 2 1]\n",
      "int64\n",
      "the unique values of TotalWorkExperienceInYears are\n",
      "[10 20 23  9  4 28  1  7 12 30  5  2 19 16 34  6  8 11 17  3 14 26 13 22\n",
      "  0 29 18 35 33 31 24 15 32 21 27 25 36 37 38 40]\n",
      "int64\n",
      "the unique values of TrainingTimesLastYear are\n",
      "[2 1 4 5 6 3 0]\n",
      "int64\n",
      "the unique values of EmpWorkLifeBalance are\n",
      "[2 3 4 1]\n",
      "int64\n",
      "the unique values of ExperienceYearsAtThisCompany are\n",
      "[10  7 18 21  2  9  8  1  5 22  4  0 34  6 15  3 13 26 20 12 31 16 11 14\n",
      " 17 19 32 24 33 29 25 36 30 23 27 37 40]\n",
      "int64\n",
      "the unique values of ExperienceYearsInCurrentRole are\n",
      "[ 7 13  6  2  0  1  3  8  9  5  4 14 12 10 16 11 15 17 18]\n",
      "int64\n",
      "the unique values of YearsSinceLastPromotion are\n",
      "[ 0  1 12  2  3 11  7  4  5 14  8 15  6 10 13  9]\n",
      "int64\n",
      "the unique values of YearsWithCurrManager are\n",
      "[ 8  7 12  6  2  5  0  4 13  3  1 16  9 17 11 10 14 15]\n",
      "int64\n",
      "the unique values of Attrition are\n",
      "[0. 1.]\n",
      "float64\n"
     ]
    }
   ],
   "source": [
    "for i in x.columns:\n",
    "    print('the unique values of',i,'are')\n",
    "    print(x[i].unique())\n",
    "    print(x[i].dtype)"
   ]
  },
  {
   "cell_type": "code",
   "execution_count": 30,
   "metadata": {},
   "outputs": [],
   "source": [
    "scaler=MinMaxScaler()\n",
    "scalable_variables=['YearsWithCurrManager',\n",
    "                   'ExperienceYearsInCurrentRole',\n",
    "                   'ExperienceYearsAtThisCompany',\n",
    "                   'TotalWorkExperienceInYears',\n",
    "                  'EmpLastSalaryHikePercent',\n",
    "                  'EmpHourlyRate',\n",
    "                  'DistanceFromHome',\n",
    "                  'Age']\n",
    "for i in scalable_variables:\n",
    "    x[i]=scaler.fit_transform(x[[i]])"
   ]
  },
  {
   "cell_type": "code",
   "execution_count": 31,
   "metadata": {},
   "outputs": [
    {
     "data": {
      "text/html": [
       "<div>\n",
       "<style scoped>\n",
       "    .dataframe tbody tr th:only-of-type {\n",
       "        vertical-align: middle;\n",
       "    }\n",
       "\n",
       "    .dataframe tbody tr th {\n",
       "        vertical-align: top;\n",
       "    }\n",
       "\n",
       "    .dataframe thead th {\n",
       "        text-align: right;\n",
       "    }\n",
       "</style>\n",
       "<table border=\"1\" class=\"dataframe\">\n",
       "  <thead>\n",
       "    <tr style=\"text-align: right;\">\n",
       "      <th></th>\n",
       "      <th>Age</th>\n",
       "      <th>Gender</th>\n",
       "      <th>EducationBackground</th>\n",
       "      <th>MaritalStatus</th>\n",
       "      <th>EmpDepartment</th>\n",
       "      <th>EmpJobRole</th>\n",
       "      <th>BusinessTravelFrequency</th>\n",
       "      <th>DistanceFromHome</th>\n",
       "      <th>EmpEducationLevel</th>\n",
       "      <th>EmpEnvironmentSatisfaction</th>\n",
       "      <th>...</th>\n",
       "      <th>EmpLastSalaryHikePercent</th>\n",
       "      <th>EmpRelationshipSatisfaction</th>\n",
       "      <th>TotalWorkExperienceInYears</th>\n",
       "      <th>TrainingTimesLastYear</th>\n",
       "      <th>EmpWorkLifeBalance</th>\n",
       "      <th>ExperienceYearsAtThisCompany</th>\n",
       "      <th>ExperienceYearsInCurrentRole</th>\n",
       "      <th>YearsSinceLastPromotion</th>\n",
       "      <th>YearsWithCurrManager</th>\n",
       "      <th>Attrition</th>\n",
       "    </tr>\n",
       "  </thead>\n",
       "  <tbody>\n",
       "    <tr>\n",
       "      <th>0</th>\n",
       "      <td>0.333333</td>\n",
       "      <td>1.0</td>\n",
       "      <td>2.0</td>\n",
       "      <td>2.0</td>\n",
       "      <td>5.0</td>\n",
       "      <td>13.0</td>\n",
       "      <td>2.0</td>\n",
       "      <td>0.321429</td>\n",
       "      <td>3</td>\n",
       "      <td>4</td>\n",
       "      <td>...</td>\n",
       "      <td>0.071429</td>\n",
       "      <td>4</td>\n",
       "      <td>0.250</td>\n",
       "      <td>2</td>\n",
       "      <td>2</td>\n",
       "      <td>0.250</td>\n",
       "      <td>0.388889</td>\n",
       "      <td>0</td>\n",
       "      <td>0.470588</td>\n",
       "      <td>0.0</td>\n",
       "    </tr>\n",
       "    <tr>\n",
       "      <th>1</th>\n",
       "      <td>0.690476</td>\n",
       "      <td>1.0</td>\n",
       "      <td>2.0</td>\n",
       "      <td>2.0</td>\n",
       "      <td>5.0</td>\n",
       "      <td>13.0</td>\n",
       "      <td>2.0</td>\n",
       "      <td>0.464286</td>\n",
       "      <td>4</td>\n",
       "      <td>4</td>\n",
       "      <td>...</td>\n",
       "      <td>0.071429</td>\n",
       "      <td>4</td>\n",
       "      <td>0.500</td>\n",
       "      <td>2</td>\n",
       "      <td>3</td>\n",
       "      <td>0.175</td>\n",
       "      <td>0.388889</td>\n",
       "      <td>1</td>\n",
       "      <td>0.411765</td>\n",
       "      <td>0.0</td>\n",
       "    </tr>\n",
       "    <tr>\n",
       "      <th>2</th>\n",
       "      <td>0.523810</td>\n",
       "      <td>1.0</td>\n",
       "      <td>1.0</td>\n",
       "      <td>1.0</td>\n",
       "      <td>5.0</td>\n",
       "      <td>13.0</td>\n",
       "      <td>1.0</td>\n",
       "      <td>0.142857</td>\n",
       "      <td>4</td>\n",
       "      <td>4</td>\n",
       "      <td>...</td>\n",
       "      <td>0.714286</td>\n",
       "      <td>3</td>\n",
       "      <td>0.500</td>\n",
       "      <td>2</td>\n",
       "      <td>3</td>\n",
       "      <td>0.450</td>\n",
       "      <td>0.722222</td>\n",
       "      <td>1</td>\n",
       "      <td>0.705882</td>\n",
       "      <td>0.0</td>\n",
       "    </tr>\n",
       "    <tr>\n",
       "      <th>3</th>\n",
       "      <td>0.547619</td>\n",
       "      <td>1.0</td>\n",
       "      <td>0.0</td>\n",
       "      <td>0.0</td>\n",
       "      <td>3.0</td>\n",
       "      <td>8.0</td>\n",
       "      <td>2.0</td>\n",
       "      <td>0.321429</td>\n",
       "      <td>4</td>\n",
       "      <td>2</td>\n",
       "      <td>...</td>\n",
       "      <td>0.285714</td>\n",
       "      <td>2</td>\n",
       "      <td>0.575</td>\n",
       "      <td>2</td>\n",
       "      <td>2</td>\n",
       "      <td>0.525</td>\n",
       "      <td>0.333333</td>\n",
       "      <td>12</td>\n",
       "      <td>0.352941</td>\n",
       "      <td>0.0</td>\n",
       "    </tr>\n",
       "    <tr>\n",
       "      <th>4</th>\n",
       "      <td>1.000000</td>\n",
       "      <td>1.0</td>\n",
       "      <td>2.0</td>\n",
       "      <td>2.0</td>\n",
       "      <td>5.0</td>\n",
       "      <td>13.0</td>\n",
       "      <td>2.0</td>\n",
       "      <td>0.535714</td>\n",
       "      <td>4</td>\n",
       "      <td>1</td>\n",
       "      <td>...</td>\n",
       "      <td>0.214286</td>\n",
       "      <td>4</td>\n",
       "      <td>0.250</td>\n",
       "      <td>1</td>\n",
       "      <td>3</td>\n",
       "      <td>0.050</td>\n",
       "      <td>0.111111</td>\n",
       "      <td>2</td>\n",
       "      <td>0.117647</td>\n",
       "      <td>0.0</td>\n",
       "    </tr>\n",
       "  </tbody>\n",
       "</table>\n",
       "<p>5 rows × 26 columns</p>\n",
       "</div>"
      ],
      "text/plain": [
       "        Age  Gender  EducationBackground  MaritalStatus  EmpDepartment  \\\n",
       "0  0.333333     1.0                  2.0            2.0            5.0   \n",
       "1  0.690476     1.0                  2.0            2.0            5.0   \n",
       "2  0.523810     1.0                  1.0            1.0            5.0   \n",
       "3  0.547619     1.0                  0.0            0.0            3.0   \n",
       "4  1.000000     1.0                  2.0            2.0            5.0   \n",
       "\n",
       "   EmpJobRole  BusinessTravelFrequency  DistanceFromHome  EmpEducationLevel  \\\n",
       "0        13.0                      2.0          0.321429                  3   \n",
       "1        13.0                      2.0          0.464286                  4   \n",
       "2        13.0                      1.0          0.142857                  4   \n",
       "3         8.0                      2.0          0.321429                  4   \n",
       "4        13.0                      2.0          0.535714                  4   \n",
       "\n",
       "   EmpEnvironmentSatisfaction  ...  EmpLastSalaryHikePercent  \\\n",
       "0                           4  ...                  0.071429   \n",
       "1                           4  ...                  0.071429   \n",
       "2                           4  ...                  0.714286   \n",
       "3                           2  ...                  0.285714   \n",
       "4                           1  ...                  0.214286   \n",
       "\n",
       "   EmpRelationshipSatisfaction  TotalWorkExperienceInYears  \\\n",
       "0                            4                       0.250   \n",
       "1                            4                       0.500   \n",
       "2                            3                       0.500   \n",
       "3                            2                       0.575   \n",
       "4                            4                       0.250   \n",
       "\n",
       "   TrainingTimesLastYear  EmpWorkLifeBalance  ExperienceYearsAtThisCompany  \\\n",
       "0                      2                   2                         0.250   \n",
       "1                      2                   3                         0.175   \n",
       "2                      2                   3                         0.450   \n",
       "3                      2                   2                         0.525   \n",
       "4                      1                   3                         0.050   \n",
       "\n",
       "   ExperienceYearsInCurrentRole  YearsSinceLastPromotion  \\\n",
       "0                      0.388889                        0   \n",
       "1                      0.388889                        1   \n",
       "2                      0.722222                        1   \n",
       "3                      0.333333                       12   \n",
       "4                      0.111111                        2   \n",
       "\n",
       "   YearsWithCurrManager  Attrition  \n",
       "0              0.470588        0.0  \n",
       "1              0.411765        0.0  \n",
       "2              0.705882        0.0  \n",
       "3              0.352941        0.0  \n",
       "4              0.117647        0.0  \n",
       "\n",
       "[5 rows x 26 columns]"
      ]
     },
     "execution_count": 31,
     "metadata": {},
     "output_type": "execute_result"
    }
   ],
   "source": [
    "x.head()"
   ]
  },
  {
   "cell_type": "markdown",
   "metadata": {},
   "source": [
    "### Splitting dataset into training and testing data"
   ]
  },
  {
   "cell_type": "code",
   "execution_count": 32,
   "metadata": {},
   "outputs": [],
   "source": [
    "x_train, x_test, y_train, y_test = train_test_split(x, y, test_size=0.20, random_state=10)"
   ]
  },
  {
   "cell_type": "markdown",
   "metadata": {},
   "source": [
    "### Adressing imbalance in data by using synthetic minority oversampling technique(SMOTE)"
   ]
  },
  {
   "cell_type": "code",
   "execution_count": 33,
   "metadata": {},
   "outputs": [
    {
     "data": {
      "text/plain": [
       "<AxesSubplot:xlabel='PerformanceRating', ylabel='count'>"
      ]
     },
     "execution_count": 33,
     "metadata": {},
     "output_type": "execute_result"
    },
    {
     "data": {
      "image/png": "[encoded data removed]",
      "text/plain": [
       "<Figure size 432x288 with 1 Axes>"
      ]
     },
     "metadata": {
      "needs_background": "light"
     },
     "output_type": "display_data"
    }
   ],
   "source": [
    "sns.countplot(y_train)"
   ]
  },
  {
   "cell_type": "code",
   "execution_count": 34,
   "metadata": {},
   "outputs": [],
   "source": [
    "oversampler=SMOTE()\n",
    "x_train,y_train=oversampler.fit_resample(x_train,y_train)"
   ]
  },
  {
   "cell_type": "code",
   "execution_count": 35,
   "metadata": {},
   "outputs": [
    {
     "data": {
      "text/plain": [
       "<AxesSubplot:xlabel='PerformanceRating', ylabel='count'>"
      ]
     },
     "execution_count": 35,
     "metadata": {},
     "output_type": "execute_result"
    },
    {
     "data": {
      "image/png": "[encoded data removed]",
      "text/plain": [
       "<Figure size 432x288 with 1 Axes>"
      ]
     },
     "metadata": {
      "needs_background": "light"
     },
     "output_type": "display_data"
    }
   ],
   "source": [
    "sns.countplot(y_train)"
   ]
  }
 ],
 "metadata": {
  "kernelspec": {
   "display_name": "Python 3",
   "language": "python",
   "name": "python3"
  },
  "language_info": {
   "codemirror_mode": {
    "name": "ipython",
    "version": 3
   },
   "file_extension": ".py",
   "mimetype": "text/x-python",
   "name": "python",
   "nbconvert_exporter": "python",
   "pygments_lexer": "ipython3",
   "version": "3.8.5"
  }
 },
 "nbformat": 4,
 "nbformat_minor": 4
}
